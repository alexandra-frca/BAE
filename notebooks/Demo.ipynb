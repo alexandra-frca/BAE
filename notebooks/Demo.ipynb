{
 "cells": [
  {
   "cell_type": "code",
   "execution_count": null,
   "metadata": {},
   "outputs": [
    {
     "name": "stdout",
     "output_type": "stream",
     "text": [
      "1707\n",
      "22_07 2145.\n"
     ]
    }
   ],
   "source": [
    "from src.algorithms.FQAE import TestFQAE"
   ]
  },
  {
   "cell_type": "code",
   "execution_count": 1,
   "metadata": {},
   "outputs": [
    {
     "ename": "NameError",
     "evalue": "name 'TestFQAE' is not defined",
     "output_type": "error",
     "traceback": [
      "\u001b[0;31m---------------------------------------------------------------------------\u001b[0m",
      "\u001b[0;31mNameError\u001b[0m                                 Traceback (most recent call last)",
      "Cell \u001b[0;32mIn[1], line 6\u001b[0m\n\u001b[1;32m      4\u001b[0m delta_c \u001b[38;5;241m=\u001b[39m \u001b[38;5;241m0.01\u001b[39m\n\u001b[1;32m      5\u001b[0m kmax_start, kmax_end \u001b[38;5;241m=\u001b[39m \u001b[38;5;241m1\u001b[39m, \u001b[38;5;241m10\u001b[39m\n\u001b[0;32m----> 6\u001b[0m tester \u001b[38;5;241m=\u001b[39m \u001b[43mTestFQAE\u001b[49m(a, Tc, delta_c, silent \u001b[38;5;241m=\u001b[39m \u001b[38;5;28;01mTrue\u001b[39;00m)\n\u001b[1;32m      7\u001b[0m tester\u001b[38;5;241m.\u001b[39msqe_evolution_multiple(nruns, kmax_start, kmax_end)\n",
      "\u001b[0;31mNameError\u001b[0m: name 'TestFQAE' is not defined"
     ]
    }
   ],
   "source": [
    "a = 0.4\n",
    "Tc = None # (2000, 10000)\n",
    "nruns = int(1e2)\n",
    "delta_c = 0.01\n",
    "kmax_start, kmax_end = 1, 10\n",
    "tester = TestFQAE(a, Tc, delta_c, silent = True)\n",
    "tester.sqe_evolution_multiple(nruns, kmax_start, kmax_end)"
   ]
  }
 ],
 "metadata": {
  "kernelspec": {
   "display_name": "BAE",
   "language": "python",
   "name": "python3"
  },
  "language_info": {
   "codemirror_mode": {
    "name": "ipython",
    "version": 3
   },
   "file_extension": ".py",
   "mimetype": "text/x-python",
   "name": "python",
   "nbconvert_exporter": "python",
   "pygments_lexer": "ipython3",
   "version": "3.12.7"
  }
 },
 "nbformat": 4,
 "nbformat_minor": 2
}
